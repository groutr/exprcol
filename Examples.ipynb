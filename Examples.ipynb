{
 "cells": [
  {
   "cell_type": "code",
   "execution_count": 38,
   "metadata": {},
   "outputs": [],
   "source": [
    "from exprcol import register, resolve, REGISTRY\n",
    "\n",
    "import numpy as np\n",
    "import operator\n",
    "import pandas as pd\n",
    "from dask import dataframe as ddf"
   ]
  },
  {
   "cell_type": "code",
   "execution_count": 8,
   "metadata": {},
   "outputs": [
    {
     "data": {
      "text/plain": [
       "<function pow(x, y, z=None, /)>"
      ]
     },
     "execution_count": 8,
     "metadata": {},
     "output_type": "execute_result"
    }
   ],
   "source": [
    "@register('discrim', ['a', 'b', 'c'])\n",
    "def discriminant(a, b, c):\n",
    "    return b**2 - 4*a*c\n",
    "\n",
    "@register('pos_num', ['b', 'sqrt_discrim'])\n",
    "def pos_num(b, sqrt_discrim):\n",
    "    return -b + sqrt_discrim\n",
    "\n",
    "@register('neg_num', ['b', 'sqrt_discrim'])\n",
    "def neg_num(b, sqrt_discrim):\n",
    "    return -b - sqrt_discrim\n",
    "\n",
    "register('double_a', ['a', 2])(operator.mul)\n",
    "register('pos_root', ['pos_num', 'double_a'])(operator.truediv)\n",
    "register('neg_root', ['neg_num', 'double_a'])(operator.truediv)\n",
    "register('sqrt_discrim', ['discrim', .5])(pow)"
   ]
  },
  {
   "cell_type": "code",
   "execution_count": 62,
   "metadata": {},
   "outputs": [],
   "source": [
    "data = pd.DataFrame({'a': np.random.rand(10000), 'b': 4*np.random.rand(10000), 'c': np.random.rand(10000)})"
   ]
  },
  {
   "cell_type": "code",
   "execution_count": 63,
   "metadata": {},
   "outputs": [
    {
     "data": {
      "text/html": [
       "<div>\n",
       "<style scoped>\n",
       "    .dataframe tbody tr th:only-of-type {\n",
       "        vertical-align: middle;\n",
       "    }\n",
       "\n",
       "    .dataframe tbody tr th {\n",
       "        vertical-align: top;\n",
       "    }\n",
       "\n",
       "    .dataframe thead th {\n",
       "        text-align: right;\n",
       "    }\n",
       "</style>\n",
       "<table border=\"1\" class=\"dataframe\">\n",
       "  <thead>\n",
       "    <tr style=\"text-align: right;\">\n",
       "      <th></th>\n",
       "      <th>a</th>\n",
       "      <th>b</th>\n",
       "      <th>c</th>\n",
       "    </tr>\n",
       "  </thead>\n",
       "  <tbody>\n",
       "    <tr>\n",
       "      <td>0</td>\n",
       "      <td>0.087683</td>\n",
       "      <td>3.733088</td>\n",
       "      <td>0.791449</td>\n",
       "    </tr>\n",
       "    <tr>\n",
       "      <td>1</td>\n",
       "      <td>0.244657</td>\n",
       "      <td>0.999731</td>\n",
       "      <td>0.287873</td>\n",
       "    </tr>\n",
       "    <tr>\n",
       "      <td>2</td>\n",
       "      <td>0.238428</td>\n",
       "      <td>2.990638</td>\n",
       "      <td>0.243787</td>\n",
       "    </tr>\n",
       "    <tr>\n",
       "      <td>3</td>\n",
       "      <td>0.917214</td>\n",
       "      <td>0.759941</td>\n",
       "      <td>0.771665</td>\n",
       "    </tr>\n",
       "    <tr>\n",
       "      <td>4</td>\n",
       "      <td>0.030690</td>\n",
       "      <td>3.371331</td>\n",
       "      <td>0.150902</td>\n",
       "    </tr>\n",
       "    <tr>\n",
       "      <td>...</td>\n",
       "      <td>...</td>\n",
       "      <td>...</td>\n",
       "      <td>...</td>\n",
       "    </tr>\n",
       "    <tr>\n",
       "      <td>9995</td>\n",
       "      <td>0.482493</td>\n",
       "      <td>1.342553</td>\n",
       "      <td>0.620086</td>\n",
       "    </tr>\n",
       "    <tr>\n",
       "      <td>9996</td>\n",
       "      <td>0.482065</td>\n",
       "      <td>2.845487</td>\n",
       "      <td>0.171563</td>\n",
       "    </tr>\n",
       "    <tr>\n",
       "      <td>9997</td>\n",
       "      <td>0.316553</td>\n",
       "      <td>3.997872</td>\n",
       "      <td>0.497792</td>\n",
       "    </tr>\n",
       "    <tr>\n",
       "      <td>9998</td>\n",
       "      <td>0.509177</td>\n",
       "      <td>0.924700</td>\n",
       "      <td>0.970953</td>\n",
       "    </tr>\n",
       "    <tr>\n",
       "      <td>9999</td>\n",
       "      <td>0.008871</td>\n",
       "      <td>0.463150</td>\n",
       "      <td>0.090797</td>\n",
       "    </tr>\n",
       "  </tbody>\n",
       "</table>\n",
       "<p>10000 rows × 3 columns</p>\n",
       "</div>"
      ],
      "text/plain": [
       "             a         b         c\n",
       "0     0.087683  3.733088  0.791449\n",
       "1     0.244657  0.999731  0.287873\n",
       "2     0.238428  2.990638  0.243787\n",
       "3     0.917214  0.759941  0.771665\n",
       "4     0.030690  3.371331  0.150902\n",
       "...        ...       ...       ...\n",
       "9995  0.482493  1.342553  0.620086\n",
       "9996  0.482065  2.845487  0.171563\n",
       "9997  0.316553  3.997872  0.497792\n",
       "9998  0.509177  0.924700  0.970953\n",
       "9999  0.008871  0.463150  0.090797\n",
       "\n",
       "[10000 rows x 3 columns]"
      ]
     },
     "execution_count": 63,
     "metadata": {},
     "output_type": "execute_result"
    }
   ],
   "source": [
    "data"
   ]
  },
  {
   "cell_type": "code",
   "execution_count": 73,
   "metadata": {},
   "outputs": [
    {
     "name": "stdout",
     "output_type": "stream",
     "text": [
      "2.53 ms ± 228 µs per loop (mean ± std. dev. of 7 runs, 100 loops each)\n"
     ]
    }
   ],
   "source": [
    "%%timeit\n",
    "pos_root = (-data.b + (data.b**2 - 4*data.a*data.c) ** .5)/(2*data.a)\n",
    "neg_root = (-data.b - (data.b**2 - 4*data.a*data.c) ** .5)/(2*data.a)"
   ]
  },
  {
   "cell_type": "code",
   "execution_count": 74,
   "metadata": {},
   "outputs": [
    {
     "name": "stdout",
     "output_type": "stream",
     "text": [
      "1.79 ms ± 64.4 µs per loop (mean ± std. dev. of 7 runs, 1000 loops each)\n"
     ]
    }
   ],
   "source": [
    "%%timeit\n",
    "roots = resolve.compute(data, ['pos_root', 'neg_root'])"
   ]
  }
 ],
 "metadata": {
  "kernelspec": {
   "display_name": "Python 3",
   "language": "python",
   "name": "python3"
  },
  "language_info": {
   "codemirror_mode": {
    "name": "ipython",
    "version": 3
   },
   "file_extension": ".py",
   "mimetype": "text/x-python",
   "name": "python",
   "nbconvert_exporter": "python",
   "pygments_lexer": "ipython3",
   "version": "3.7.3"
  }
 },
 "nbformat": 4,
 "nbformat_minor": 4
}
